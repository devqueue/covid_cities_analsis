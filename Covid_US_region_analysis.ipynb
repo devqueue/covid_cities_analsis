{
 "cells": [
  {
   "cell_type": "markdown",
   "source": [
    "# COVID Data Visualization for 5 regions"
   ],
   "metadata": {}
  },
  {
   "cell_type": "code",
   "execution_count": null,
   "source": [
    "import os\r\n",
    "import datetime\r\n",
    "import matplotlib.pyplot as plt\r\n",
    "import seaborn as sns\r\n",
    "import pandas as pd\r\n",
    "from custuntions import phase_mask, line_plot, scatter_plot\r\n",
    "\r\n",
    "# Use white grid plot background from seaborn\r\n",
    "sns.set(font_scale=1.5, style=\"whitegrid\")"
   ],
   "outputs": [],
   "metadata": {}
  },
  {
   "cell_type": "code",
   "execution_count": null,
   "source": [
    "dfs = {}"
   ],
   "outputs": [],
   "metadata": {}
  },
  {
   "cell_type": "code",
   "execution_count": null,
   "source": [
    "for file in os.listdir(\"./DATA\"):\r\n",
    "    filename = file.split(\".\")\r\n",
    "    dfs[f\"{filename[0]}\"] = pd.read_csv(f\"./DATA/{file}\")"
   ],
   "outputs": [],
   "metadata": {}
  },
  {
   "cell_type": "code",
   "execution_count": null,
   "source": [
    "for city in dfs:\r\n",
    "    dfs[city][\"Date\"] = pd.to_datetime(dfs[city][\"YEAR\"].astype(str) + \"/\" + dfs[city][\"MO\"].astype(str) + \"/\" + dfs[city][\"DY\"].astype(str))\r\n",
    "    dfs[city].set_index('Date', inplace=True)\r\n",
    "    dfs[city].drop([\"LAT\", \"LON\", \"YEAR\", \"MO\", \"DY\"], axis=1, inplace=True)"
   ],
   "outputs": [],
   "metadata": {}
  },
  {
   "cell_type": "code",
   "execution_count": null,
   "source": [
    "df_cases = pd.read_csv(\"US_state_cases.csv\")"
   ],
   "outputs": [],
   "metadata": {}
  },
  {
   "cell_type": "code",
   "execution_count": null,
   "source": [
    "df_cases"
   ],
   "outputs": [],
   "metadata": {}
  },
  {
   "cell_type": "code",
   "execution_count": null,
   "source": [
    "df_cases['date'] = pd.to_datetime(df_cases['date'])\r\n",
    "df_cases.rename(columns={'date':'Date'}, inplace=True)\r\n",
    "df_cases.set_index('Date', inplace= True)\r\n",
    "df_cases.drop(['fips'], axis=1, inplace=True)\r\n",
    "df_cases = df_cases.loc[\"2020-03-01\":\"2021-03-16\"]"
   ],
   "outputs": [],
   "metadata": {}
  },
  {
   "cell_type": "code",
   "execution_count": null,
   "source": [
    "for city in dfs:\r\n",
    "    dfs[city] = pd.merge(left=dfs[city],\r\n",
    "                         left_index=True,\r\n",
    "                         right=df_cases.loc[(df_cases['state'] == city), ['cases', 'deaths']],\r\n",
    "                         right_index=True,\r\n",
    "                         how='inner')"
   ],
   "outputs": [],
   "metadata": {}
  },
  {
   "cell_type": "code",
   "execution_count": null,
   "source": [
    "dfs_southern = [dfs['Arizona'], dfs['Louisiana'], dfs['Texas'], dfs['Florida']]"
   ],
   "outputs": [],
   "metadata": {}
  },
  {
   "cell_type": "code",
   "execution_count": null,
   "source": [
    "dfs_northern = [dfs['Minnesota'], dfs['Massachusetts']]"
   ],
   "outputs": [],
   "metadata": {}
  },
  {
   "cell_type": "code",
   "execution_count": null,
   "source": [
    "dfs_western = [dfs['Nevada'], dfs['California'], dfs['Oregon']]"
   ],
   "outputs": [],
   "metadata": {}
  },
  {
   "cell_type": "code",
   "execution_count": null,
   "source": [
    "dfs_eastern = [dfs['New York'], dfs['New Jersey']]"
   ],
   "outputs": [],
   "metadata": {}
  },
  {
   "cell_type": "code",
   "execution_count": null,
   "source": [
    "dfs_central = [dfs['Colorado']]"
   ],
   "outputs": [],
   "metadata": {}
  },
  {
   "cell_type": "code",
   "execution_count": null,
   "source": [
    "dfs['Nevada']"
   ],
   "outputs": [],
   "metadata": {}
  },
  {
   "cell_type": "code",
   "execution_count": null,
   "source": [
    "df_southern_mean = pd.concat(dfs_southern).groupby(\"Date\").mean()\r\n",
    "df_northern_mean = pd.concat(dfs_northern).groupby(\"Date\").mean()\r\n",
    "df_eastern_mean = pd.concat(dfs_eastern).groupby(\"Date\").mean()\r\n",
    "df_western_mean = pd.concat(dfs_western).groupby(\"Date\").mean()\r\n",
    "df_central_mean = pd.concat(dfs_central).groupby(\"Date\").mean()"
   ],
   "outputs": [],
   "metadata": {}
  },
  {
   "cell_type": "code",
   "execution_count": null,
   "source": [
    "columns = {'RH2M':'Relative Humidity at 2 Meters (%)',\r\n",
    "           'T2MDEW': 'Dew/Frost Point at 2 Meters (C)',\r\n",
    "           'T2M_MAX': 'Maximum Temperature at 2 Meters (C)',\r\n",
    "           'T2M_MIN' :'Minimum Temperature at 2 Meters (C)',\r\n",
    "           'T2M_RANGE': 'Temperature Range at 2 Meters (C)',\r\n",
    "           'WS50M_RANGE': 'Wind Speed Range at 50 Meters (m/s)',\r\n",
    "           'WS10M_RANGE': 'Wind Speed Range at 10 Meters (m/s)'\r\n",
    "}"
   ],
   "outputs": [],
   "metadata": {}
  },
  {
   "cell_type": "markdown",
   "source": [
    "## Southern Region"
   ],
   "metadata": {}
  },
  {
   "cell_type": "code",
   "execution_count": null,
   "source": [
    "df_southern_mean.rename(columns=columns, inplace=True)"
   ],
   "outputs": [],
   "metadata": {}
  },
  {
   "cell_type": "code",
   "execution_count": null,
   "source": [
    "df_southern_mean"
   ],
   "outputs": [],
   "metadata": {}
  },
  {
   "cell_type": "code",
   "execution_count": null,
   "source": [
    "# phase one and phase 2 seperation here\r\n",
    "phase1_southern_mean, phase2_southern_mean = phase_mask(df_southern_mean, \"2020-03-01\", \"2020-10-01\", \"2020-10-01\", \"2021-03-16\")"
   ],
   "outputs": [],
   "metadata": {}
  },
  {
   "cell_type": "code",
   "execution_count": null,
   "source": [
    "# dropping columns here (Drop cases and deaths to better visualize the atmospheric data)\r\n",
    "# phase1_southern_mean = phase1_southern_mean.drop([\"cases\", \"deaths\"], axis=1)\r\n",
    "# phase2_southern_mean = phase2_southern_mean.drop([\"cases\", \"deaths\"], axis=1)"
   ],
   "outputs": [],
   "metadata": {}
  },
  {
   "cell_type": "code",
   "execution_count": null,
   "source": [
    "fig, ax = line_plot(phase1_southern_mean, \"Southern region covid trend phase 1\")"
   ],
   "outputs": [],
   "metadata": {}
  },
  {
   "cell_type": "code",
   "execution_count": null,
   "source": [
    "fig, ax = line_plot(phase2_southern_mean, \"Southern region covid trend phase 2\")"
   ],
   "outputs": [],
   "metadata": {}
  },
  {
   "cell_type": "code",
   "execution_count": null,
   "source": [
    "scatter_plot(df_southern_mean, \"cases\", columns[\"T2MDEW\"])"
   ],
   "outputs": [],
   "metadata": {}
  },
  {
   "cell_type": "code",
   "execution_count": null,
   "source": [
    "scatter_plot(df_southern_mean, \"cases\", columns[\"T2M_MAX\"]) "
   ],
   "outputs": [],
   "metadata": {}
  },
  {
   "cell_type": "code",
   "execution_count": null,
   "source": [
    "scatter_plot(df_southern_mean, \"cases\", columns[\"T2M_MIN\"])"
   ],
   "outputs": [],
   "metadata": {}
  },
  {
   "cell_type": "code",
   "execution_count": null,
   "source": [
    "scatter_plot(df_southern_mean, \"cases\", columns[\"WS50M_RANGE\"])"
   ],
   "outputs": [],
   "metadata": {}
  },
  {
   "cell_type": "code",
   "execution_count": null,
   "source": [
    "scatter_plot(df_southern_mean, \"cases\", columns[\"WS10M_RANGE\"])"
   ],
   "outputs": [],
   "metadata": {}
  },
  {
   "cell_type": "markdown",
   "source": [
    "## Nothern Region"
   ],
   "metadata": {}
  },
  {
   "cell_type": "code",
   "execution_count": null,
   "source": [
    "df_northern_mean.rename(columns=columns, inplace=True)"
   ],
   "outputs": [],
   "metadata": {}
  },
  {
   "cell_type": "code",
   "execution_count": null,
   "source": [
    "df_northern_mean"
   ],
   "outputs": [],
   "metadata": {}
  },
  {
   "cell_type": "code",
   "execution_count": null,
   "source": [
    "# phase one and phase 2 seperation here\r\n",
    "phase1_northern_mean, phase2_northern_mean = phase_mask(df_northern_mean, \"2020-03-01\", \"2020-10-01\", \"2020-10-01\", \"2021-03-16\")"
   ],
   "outputs": [],
   "metadata": {}
  },
  {
   "cell_type": "code",
   "execution_count": null,
   "source": [
    "# dropping columns here\r\n",
    "# phase1_northern_mean = phase1_northern_mean.drop([\"cases\", \"deaths\"], axis=1)\r\n",
    "# phase2_northern_mean = phase2_northern_mean.drop([\"cases\", \"deaths\"], axis=1)"
   ],
   "outputs": [],
   "metadata": {}
  },
  {
   "cell_type": "code",
   "execution_count": null,
   "source": [
    "fig, ax = line_plot(phase1_northern_mean, \"Nothern region covid trend phase 1\")"
   ],
   "outputs": [],
   "metadata": {}
  },
  {
   "cell_type": "code",
   "execution_count": null,
   "source": [
    "fig, ax = line_plot(phase2_northern_mean, \"Nothern region covid trend phase 2\")"
   ],
   "outputs": [],
   "metadata": {}
  },
  {
   "cell_type": "code",
   "execution_count": null,
   "source": [
    "scatter_plot(df_northern_mean, \"cases\", columns[\"T2MDEW\"])"
   ],
   "outputs": [],
   "metadata": {}
  },
  {
   "cell_type": "code",
   "execution_count": null,
   "source": [
    "scatter_plot(df_northern_mean, \"cases\", columns[\"T2M_MAX\"]) "
   ],
   "outputs": [],
   "metadata": {}
  },
  {
   "cell_type": "code",
   "execution_count": null,
   "source": [
    "scatter_plot(df_northern_mean, \"cases\", columns[\"T2M_MIN\"])"
   ],
   "outputs": [],
   "metadata": {}
  },
  {
   "cell_type": "code",
   "execution_count": null,
   "source": [
    "scatter_plot(df_northern_mean, \"cases\", columns[\"WS50M_RANGE\"])"
   ],
   "outputs": [],
   "metadata": {}
  },
  {
   "cell_type": "code",
   "execution_count": null,
   "source": [
    "scatter_plot(df_northern_mean, \"cases\", columns[\"WS10M_RANGE\"])"
   ],
   "outputs": [],
   "metadata": {}
  },
  {
   "cell_type": "markdown",
   "source": [
    "## Eastern Region"
   ],
   "metadata": {}
  },
  {
   "cell_type": "code",
   "execution_count": null,
   "source": [
    "df_eastern_mean.rename(columns=columns, inplace=True)"
   ],
   "outputs": [],
   "metadata": {}
  },
  {
   "cell_type": "code",
   "execution_count": null,
   "source": [
    "df_eastern_mean"
   ],
   "outputs": [],
   "metadata": {}
  },
  {
   "cell_type": "code",
   "execution_count": null,
   "source": [
    "# phase one and phase 2 seperation here\r\n",
    "phase1_eastern_mean, phase2_eastern_mean = phase_mask(df_eastern_mean, \"2020-03-01\", \"2020-10-01\", \"2020-10-01\", \"2021-03-16\")"
   ],
   "outputs": [],
   "metadata": {}
  },
  {
   "cell_type": "code",
   "execution_count": null,
   "source": [
    "# dropping columns here (Drop cases and deaths to better visualize the atmospheric data)\r\n",
    "# phase1_eastern_mean = phase1_eastern_mean.drop([\"cases\", \"deaths\"], axis=1)\r\n",
    "# phase2_eastern_mean = phase2_eastern_mean.drop([\"cases\", \"deaths\"], axis=1)"
   ],
   "outputs": [],
   "metadata": {}
  },
  {
   "cell_type": "code",
   "execution_count": null,
   "source": [
    "fig, ax = line_plot(phase1_eastern_mean, \"Eastern region covid trend phase 1\")"
   ],
   "outputs": [],
   "metadata": {}
  },
  {
   "cell_type": "code",
   "execution_count": null,
   "source": [
    "fig, ax = line_plot(phase2_eastern_mean, \"Eastern region covid trend phase 2\")"
   ],
   "outputs": [],
   "metadata": {}
  },
  {
   "cell_type": "code",
   "execution_count": null,
   "source": [
    "scatter_plot(df_eastern_mean, \"cases\", columns[\"T2MDEW\"])"
   ],
   "outputs": [],
   "metadata": {}
  },
  {
   "cell_type": "code",
   "execution_count": null,
   "source": [
    "scatter_plot(df_eastern_mean, \"cases\", columns[\"T2M_MAX\"]) "
   ],
   "outputs": [],
   "metadata": {}
  },
  {
   "cell_type": "code",
   "execution_count": null,
   "source": [
    "scatter_plot(df_eastern_mean, \"cases\", columns[\"T2M_MIN\"])"
   ],
   "outputs": [],
   "metadata": {}
  },
  {
   "cell_type": "code",
   "execution_count": null,
   "source": [
    "scatter_plot(df_eastern_mean, \"cases\", columns[\"WS50M_RANGE\"])"
   ],
   "outputs": [],
   "metadata": {}
  },
  {
   "cell_type": "code",
   "execution_count": null,
   "source": [
    "scatter_plot(df_eastern_mean, \"cases\", columns[\"WS10M_RANGE\"])"
   ],
   "outputs": [],
   "metadata": {}
  },
  {
   "cell_type": "markdown",
   "source": [
    "## Western Region"
   ],
   "metadata": {}
  },
  {
   "cell_type": "code",
   "execution_count": null,
   "source": [
    "df_western_mean.rename(columns=columns, inplace=True)"
   ],
   "outputs": [],
   "metadata": {}
  },
  {
   "cell_type": "code",
   "execution_count": null,
   "source": [
    "df_western_mean"
   ],
   "outputs": [],
   "metadata": {}
  },
  {
   "cell_type": "code",
   "execution_count": null,
   "source": [
    "# phase one and phase 2 seperation here\r\n",
    "phase1_western_mean, phase2_western_mean = phase_mask(df_western_mean, \"2020-03-01\", \"2020-10-01\", \"2020-10-01\", \"2021-03-16\")"
   ],
   "outputs": [],
   "metadata": {}
  },
  {
   "cell_type": "code",
   "execution_count": null,
   "source": [
    "# dropping columns here\r\n",
    "# phase1_western_mean = phase1_western_mean.drop([\"cases\", \"deaths\"], axis=1)\r\n",
    "# phase2_western_mean = phase2_western_mean.drop([\"cases\", \"deaths\"], axis=1)"
   ],
   "outputs": [],
   "metadata": {}
  },
  {
   "cell_type": "code",
   "execution_count": null,
   "source": [
    "fig, ax = line_plot(phase1_western_mean, \"Western region covid trend phase 1\")"
   ],
   "outputs": [],
   "metadata": {}
  },
  {
   "cell_type": "code",
   "execution_count": null,
   "source": [
    "fig, ax = line_plot(phase1_western_mean, \"Western region covid trend phase 2\")"
   ],
   "outputs": [],
   "metadata": {}
  },
  {
   "cell_type": "code",
   "execution_count": null,
   "source": [
    "scatter_plot(df_western_mean, \"cases\", columns[\"RH2M\"]) "
   ],
   "outputs": [],
   "metadata": {}
  },
  {
   "cell_type": "code",
   "execution_count": null,
   "source": [
    "scatter_plot(df_western_mean, \"cases\", columns[\"T2MDEW\"])"
   ],
   "outputs": [],
   "metadata": {}
  },
  {
   "cell_type": "code",
   "execution_count": null,
   "source": [
    "scatter_plot(df_western_mean, \"cases\", columns[\"T2M_MAX\"]) "
   ],
   "outputs": [],
   "metadata": {}
  },
  {
   "cell_type": "code",
   "execution_count": null,
   "source": [
    "scatter_plot(df_western_mean, \"cases\", columns[\"T2M_MIN\"])"
   ],
   "outputs": [],
   "metadata": {}
  },
  {
   "cell_type": "code",
   "execution_count": null,
   "source": [
    "scatter_plot(df_western_mean, \"cases\", columns[\"WS50M_RANGE\"])"
   ],
   "outputs": [],
   "metadata": {}
  },
  {
   "cell_type": "code",
   "execution_count": null,
   "source": [
    "scatter_plot(df_western_mean, \"cases\", columns[\"WS10M_RANGE\"])"
   ],
   "outputs": [],
   "metadata": {}
  },
  {
   "cell_type": "markdown",
   "source": [
    "## Central Region"
   ],
   "metadata": {}
  },
  {
   "cell_type": "code",
   "execution_count": null,
   "source": [
    "df_central_mean.rename(columns=columns, inplace=True)"
   ],
   "outputs": [],
   "metadata": {}
  },
  {
   "cell_type": "code",
   "execution_count": null,
   "source": [
    "df_central_mean"
   ],
   "outputs": [],
   "metadata": {}
  },
  {
   "cell_type": "code",
   "execution_count": null,
   "source": [
    "phase1_central_mean, phase2_central_mean = phase_mask(df_central_mean, \"2020-03-01\", \"2020-10-01\", \"2020-10-01\", \"2021-03-16\")"
   ],
   "outputs": [],
   "metadata": {}
  },
  {
   "cell_type": "code",
   "execution_count": null,
   "source": [
    "fig, ax = line_plot(phase1_central_mean, \"Western region covid trend phase 1\")"
   ],
   "outputs": [],
   "metadata": {}
  },
  {
   "cell_type": "code",
   "execution_count": null,
   "source": [
    "fig, ax = line_plot(phase2_central_mean, \"Western region covid trend phase 1\")"
   ],
   "outputs": [],
   "metadata": {}
  },
  {
   "cell_type": "code",
   "execution_count": null,
   "source": [
    "scatter_plot(df_central_mean, \"cases\", columns[\"RH2M\"]) "
   ],
   "outputs": [],
   "metadata": {}
  },
  {
   "cell_type": "code",
   "execution_count": null,
   "source": [
    "scatter_plot(df_central_mean, \"cases\", columns[\"T2MDEW\"])"
   ],
   "outputs": [],
   "metadata": {}
  },
  {
   "cell_type": "code",
   "execution_count": null,
   "source": [
    "scatter_plot(df_central_mean, \"cases\", columns[\"T2M_MAX\"]) "
   ],
   "outputs": [],
   "metadata": {}
  },
  {
   "cell_type": "code",
   "execution_count": null,
   "source": [
    "scatter_plot(df_central_mean, \"cases\", columns[\"T2M_MIN\"])"
   ],
   "outputs": [],
   "metadata": {}
  },
  {
   "cell_type": "code",
   "execution_count": null,
   "source": [
    "scatter_plot(df_central_mean, \"cases\", columns[\"WS50M_RANGE\"])"
   ],
   "outputs": [],
   "metadata": {}
  },
  {
   "cell_type": "code",
   "execution_count": null,
   "source": [
    "scatter_plot(df_central_mean, \"cases\", columns[\"WS10M_RANGE\"])"
   ],
   "outputs": [],
   "metadata": {}
  },
  {
   "cell_type": "markdown",
   "source": [
    "## Converting region dataframes into excel files"
   ],
   "metadata": {}
  },
  {
   "cell_type": "code",
   "execution_count": null,
   "source": [
    "df_southern_mean.to_excel(\"Southern_weather_cases.xlsx\") \r\n",
    "df_northern_mean.to_excel(\"northern_weather_cases.xlsx\") \r\n",
    "df_eastern_mean.to_excel(\"eastern_weather_cases.xlsx\") \r\n",
    "df_western_mean.to_excel(\"western_weather_cases.xlsx\")"
   ],
   "outputs": [],
   "metadata": {}
  }
 ],
 "metadata": {
  "kernelspec": {
   "name": "python3",
   "display_name": "Python 3.8.8 64-bit ('winenv': venv)"
  },
  "language_info": {
   "codemirror_mode": {
    "name": "ipython",
    "version": 3
   },
   "file_extension": ".py",
   "mimetype": "text/x-python",
   "name": "python",
   "nbconvert_exporter": "python",
   "pygments_lexer": "ipython3",
   "version": "3.8.8"
  },
  "interpreter": {
   "hash": "824190f315d1489b1fd66e44d4db7d2369281b30276388e5c13f230f829c437d"
  }
 },
 "nbformat": 4,
 "nbformat_minor": 5
}