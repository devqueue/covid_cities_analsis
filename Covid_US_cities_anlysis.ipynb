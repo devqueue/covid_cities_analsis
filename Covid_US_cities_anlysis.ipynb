{
 "cells": [
  {
   "cell_type": "markdown",
   "id": "reflected-diary",
   "metadata": {},
   "source": [
    "# COVID Data Visualization for cities"
   ]
  },
  {
   "cell_type": "code",
   "execution_count": null,
   "id": "forward-vaccine",
   "metadata": {},
   "outputs": [],
   "source": [
    "import os\n",
    "import datetime\n",
    "import matplotlib.pyplot as plt\n",
    "import seaborn as sns\n",
    "import pandas as pd\n",
    "from custuntions import phase_mask, line_plot, scatter_plot\n",
    "\n",
    "# Use white grid plot background from seaborn\n",
    "sns.set(font_scale=1.5, style=\"whitegrid\")"
   ]
  },
  {
   "cell_type": "code",
   "execution_count": null,
   "id": "39b850ca",
   "metadata": {},
   "outputs": [],
   "source": [
    "dfs = {}"
   ]
  },
  {
   "cell_type": "code",
   "execution_count": null,
   "id": "f8750d2b",
   "metadata": {},
   "outputs": [],
   "source": [
    "xls = pd.ExcelFile('covid_confirmed_usafacts_MESHARI.xlsx')\n",
    "sheets = xls.sheet_names[2:-2]"
   ]
  },
  {
   "cell_type": "code",
   "execution_count": null,
   "id": "99ae91e6",
   "metadata": {},
   "outputs": [],
   "source": [
    "for i in sheets:\n",
    "    dfs[i] = pd.read_excel(xls, i)"
   ]
  },
  {
   "cell_type": "code",
   "execution_count": null,
   "id": "a9a67520",
   "metadata": {},
   "outputs": [],
   "source": [
    "dfs['Springfield']"
   ]
  },
  {
   "cell_type": "code",
   "execution_count": null,
   "id": "ae97fe60",
   "metadata": {},
   "outputs": [],
   "source": [
    "for city in dfs:\n",
    "    dfs[city][\"Date\"] = pd.to_datetime(dfs[city][\"YEAR\"].astype(str) + \"/\" + dfs[city][\"MO\"].astype(str) + \"/\" + dfs[city][\"DY\"].astype(str))\n",
    "    dfs[city].set_index('Date', inplace=True)\n",
    "    dfs[city].drop([\"LAT\", \"LON\", \"YEAR\", \"MO\", \"DY\"], axis=1, inplace=True)"
   ]
  },
  {
   "cell_type": "code",
   "execution_count": null,
   "id": "through-content",
   "metadata": {},
   "outputs": [],
   "source": [
    "column_names = { \"CLRSKY_SFC_SW_DWN\": \"Clear Sky Insolation Incident on a Horizontal Surface (kW-hr/m^2/day)\", \n",
    "            \"WS10M_RANGE\": \"Wind Speed Range at 10 Meters (m/s)\",\n",
    "            \"PRECTOT\": \"Precipitation (mm day-1)\",\n",
    "            \"WS50M_RANGE\": \"Wind Speed Range at 50 Meters (m/s)\",\n",
    "            \"KT\": \"Insolation Clearness Index (dimensionless)\",\n",
    "            \"T2MDEW\": \"Dew/Frost Point at 2 Meters (C)\",\n",
    "            \"PS\": \"Surface Pressure (kPa)\",\n",
    "            \"T2M_MIN\": \"Minimum Temperature at 2 Meters (C)\",\n",
    "            \"ALLSKY_SFC_SW_DWN\": \"All Sky Insolation Incident on a Horizontal Surface (kW-hr/m^2/day)\",\n",
    "            \"T2M_MAX MERRA2\": \"Maximum Temperature at 2 Meters (C)\",\n",
    "            \"T2M_RANGE MERRA2\": \"Temperature Range at 2 Meters (C)\",\n",
    "            \"T2M\": \"Temperature at 2 Meters (C)\",\n",
    "            \"RH2M\": \"Relative Humidity at 2 Meters (%)\"\n",
    "}"
   ]
  },
  {
   "cell_type": "markdown",
   "id": "mexican-postcard",
   "metadata": {},
   "source": [
    "## City Stats"
   ]
  },
  {
   "cell_type": "code",
   "execution_count": null,
   "id": "4149cc50",
   "metadata": {},
   "outputs": [],
   "source": [
    "# 1. Divide into phase 1 and phase 2\n",
    "# 2. fig plot pahse 1\n",
    "# 3. fig plot phase 2\n",
    "# 4. scatter plot cases with each value in the column"
   ]
  },
  {
   "cell_type": "code",
   "execution_count": null,
   "id": "73bd77b0",
   "metadata": {},
   "outputs": [],
   "source": [
    "cities = ['Springfield', 'Denver', 'Tallahassee', 'Austin', 'Phoenix', 'Carson City', 'mineapolis', 'Baton Rouge', 'Salem', 'Olympia', 'Sacramento', 'Trenton', 'albany', 'Boston']"
   ]
  },
  {
   "cell_type": "code",
   "execution_count": null,
   "id": "dd5986b0",
   "metadata": {},
   "outputs": [],
   "source": [
    "def get_stats(dfs: dict, city: str):\n",
    "    phase_1, phase_2 = phase_mask(dfs[city], \"2020-03-01\", \"2020-10-01\", \"2020-10-01\", \"2021-03-01\")\n",
    "    fig1, ax1 = line_plot(phase_1, f\"{city} covid trend phase 1\")\n",
    "    fig2, ax2 = line_plot(phase_2, f\"{city} covid trend phase 2\")\n",
    "    \n",
    "    for colum in dfs[city].columns.tolist():\n",
    "        scatter_plot(dfs[city], \"PS\", colum) # PS should be replaced with cases.\n",
    "        plt.show()"
   ]
  },
  {
   "cell_type": "code",
   "execution_count": null,
   "id": "7cd186ec",
   "metadata": {},
   "outputs": [],
   "source": [
    "get_stats(dfs, 'Springfield')"
   ]
  },
  {
   "cell_type": "code",
   "execution_count": null,
   "id": "b2320537",
   "metadata": {},
   "outputs": [],
   "source": [
    "get_stats(dfs, 'Denver')"
   ]
  },
  {
   "cell_type": "code",
   "execution_count": null,
   "id": "4095e748",
   "metadata": {},
   "outputs": [],
   "source": [
    "get_stats(dfs, 'Tallahassee')"
   ]
  },
  {
   "cell_type": "code",
   "execution_count": null,
   "id": "b07e1597",
   "metadata": {},
   "outputs": [],
   "source": [
    "get_stats(dfs, 'Austin')"
   ]
  },
  {
   "cell_type": "code",
   "execution_count": null,
   "id": "40ac33ec",
   "metadata": {},
   "outputs": [],
   "source": [
    "get_stats(dfs, 'Phoenix')"
   ]
  },
  {
   "cell_type": "code",
   "execution_count": null,
   "id": "fdc0cf09",
   "metadata": {},
   "outputs": [],
   "source": [
    "get_stats(dfs, 'Carson City')"
   ]
  },
  {
   "cell_type": "code",
   "execution_count": null,
   "id": "61ced314",
   "metadata": {},
   "outputs": [],
   "source": [
    "get_stats(dfs, 'mineapolis')"
   ]
  },
  {
   "cell_type": "code",
   "execution_count": null,
   "id": "d99f7aca",
   "metadata": {},
   "outputs": [],
   "source": [
    "get_stats(dfs, 'Baton Rouge')"
   ]
  },
  {
   "cell_type": "code",
   "execution_count": null,
   "id": "81153fb2",
   "metadata": {},
   "outputs": [],
   "source": [
    "get_stats(dfs, 'Salem')"
   ]
  },
  {
   "cell_type": "code",
   "execution_count": null,
   "id": "7e9450aa",
   "metadata": {},
   "outputs": [],
   "source": [
    "get_stats(dfs, 'Olympia')"
   ]
  },
  {
   "cell_type": "code",
   "execution_count": null,
   "id": "3eed28e6",
   "metadata": {},
   "outputs": [],
   "source": [
    "get_stats(dfs, 'Sacramento')"
   ]
  },
  {
   "cell_type": "code",
   "execution_count": null,
   "id": "96c1586b",
   "metadata": {},
   "outputs": [],
   "source": [
    "get_stats(dfs, 'Trenton')"
   ]
  },
  {
   "cell_type": "code",
   "execution_count": null,
   "id": "aec3c578",
   "metadata": {},
   "outputs": [],
   "source": [
    "get_stats(dfs, 'albany')"
   ]
  },
  {
   "cell_type": "code",
   "execution_count": null,
   "id": "f9d9cb96",
   "metadata": {},
   "outputs": [],
   "source": [
    "get_stats(dfs, 'Boston')"
   ]
  }
 ],
 "metadata": {
  "kernelspec": {
   "display_name": "Python 3",
   "language": "python",
   "name": "python3"
  },
  "language_info": {
   "codemirror_mode": {
    "name": "ipython",
    "version": 3
   },
   "file_extension": ".py",
   "mimetype": "text/x-python",
   "name": "python",
   "nbconvert_exporter": "python",
   "pygments_lexer": "ipython3",
   "version": "3.8.8"
  }
 },
 "nbformat": 4,
 "nbformat_minor": 5
}
