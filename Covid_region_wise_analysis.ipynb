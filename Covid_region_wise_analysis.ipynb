{
 "cells": [
  {
   "cell_type": "markdown",
   "id": "reflected-diary",
   "metadata": {},
   "source": [
    "# COVID Data Visualization for 5 regions"
   ]
  },
  {
   "cell_type": "code",
   "execution_count": null,
   "id": "forward-vaccine",
   "metadata": {},
   "outputs": [],
   "source": [
    "import os\n",
    "import matplotlib.pyplot as plt\n",
    "import seaborn as sns\n",
    "import pandas as pd\n",
    "from custuntions import phase_mask, line_plot, scatter_plot\n",
    "\n",
    "# Use white grid plot background from seaborn\n",
    "sns.set(font_scale=1.5, style=\"whitegrid\")"
   ]
  },
  {
   "cell_type": "code",
   "execution_count": null,
   "id": "analyzed-employment",
   "metadata": {},
   "outputs": [],
   "source": [
    "xls = pd.ExcelFile('14_Cities_weather_cases.xlsx')\n",
    "df_abha = pd.read_excel(xls, 'abha')\n",
    "df_najran = pd.read_excel(xls, 'najran')\n",
    "df_sharoura = pd.read_excel(xls, 'sharoura')\n",
    "df_qurayat = pd.read_excel(xls, 'qurayat')\n",
    "df_tabuk = pd.read_excel(xls, 'tabuk')\n",
    "df_hail = pd.read_excel(xls, 'hail')\n",
    "df_jed = pd.read_excel(xls, 'JED')\n",
    "df_mak = pd.read_excel(xls, 'MAK')\n",
    "df_taif = pd.read_excel(xls, 'TAIF')\n",
    "df_madina = pd.read_excel(xls, 'MAD')\n",
    "df_riyadh = pd.read_excel(xls, 'RUH')\n",
    "df_dam = pd.read_excel(xls, 'DAM')\n",
    "df_hofuf = pd.read_excel(xls, 'HOFUF') \n",
    "df_jubail = pd.read_excel(xls, 'JUBAIL')\n",
    "df_dam.rename({\"datae\":\"date\"}, axis=1, inplace=True)"
   ]
  },
  {
   "cell_type": "code",
   "execution_count": null,
   "id": "conservative-cabin",
   "metadata": {},
   "outputs": [],
   "source": [
    "dfs_southern = [df_abha, df_najran, df_sharoura]"
   ]
  },
  {
   "cell_type": "code",
   "execution_count": null,
   "id": "united-military",
   "metadata": {},
   "outputs": [],
   "source": [
    "dfs_northern = [df_qurayat, df_tabuk, df_hail]"
   ]
  },
  {
   "cell_type": "code",
   "execution_count": null,
   "id": "forty-argument",
   "metadata": {},
   "outputs": [],
   "source": [
    "dfs_western = [df_jed, df_mak, df_taif, df_madina]"
   ]
  },
  {
   "cell_type": "code",
   "execution_count": null,
   "id": "adjustable-modern",
   "metadata": {},
   "outputs": [],
   "source": [
    "dfs_eastern = [df_dam, df_hofuf, df_jubail]"
   ]
  },
  {
   "cell_type": "code",
   "execution_count": null,
   "id": "russian-lindsay",
   "metadata": {},
   "outputs": [],
   "source": [
    "df_list = [dfs_southern, dfs_northern, dfs_western, dfs_eastern]"
   ]
  },
  {
   "cell_type": "code",
   "execution_count": null,
   "id": "emotional-gravity",
   "metadata": {},
   "outputs": [],
   "source": [
    "for dfs in df_list:\n",
    "    for df in dfs:\n",
    "        df.drop([\"LAT\", \"LON\", \"YEAR\", \"MO\", \"DY\"], axis=1, inplace=True)\n",
    "        try:\n",
    "            df.index = df[\"date\"]\n",
    "            df.drop([\"date\"], axis=1, inplace=True)\n",
    "        except KeyError:\n",
    "            df.index = df[\"DATE\"]\n",
    "            df.drop([\"DATE\"], axis=1, inplace=True)\n",
    "        df.index.names = ['DATE']\n",
    "        df.drop(df.tail(2).index,inplace=True)\n",
    "        "
   ]
  },
  {
   "cell_type": "code",
   "execution_count": null,
   "id": "legislative-ground",
   "metadata": {},
   "outputs": [],
   "source": [
    "df_southern_mean = pd.concat(dfs_southern).groupby(\"DATE\").mean()\n",
    "df_northern_mean = pd.concat(dfs_northern).groupby(\"DATE\").mean()\n",
    "df_eastern_mean = pd.concat(dfs_eastern).groupby(\"DATE\").mean()\n",
    "df_western_mean = pd.concat(dfs_western).groupby(\"DATE\").mean()"
   ]
  },
  {
   "cell_type": "code",
   "execution_count": null,
   "id": "through-content",
   "metadata": {},
   "outputs": [],
   "source": [
    "columns = {'PRECTOT': 'Precipitation (mm day-1)',\n",
    "           'RH2M':'Relative Humidity at 2 Meters (%)',\n",
    "           'T2MDEW': 'Dew/Frost Point at 2 Meters (C)',\n",
    "           'T2M_MAX': 'Maximum Temperature at 2 Meters (C)',\n",
    "           'T2M_MIN' :'Minimum Temperature at 2 Meters (C)',\n",
    "           'T2M': 'Temperature at 2 Meters (C)',\n",
    "           'WS50M_RANGE': 'Wind Speed Range at 50 Meters (m/s)',\n",
    "           'WS10M_RANGE': 'Wind Speed Range at 10 Meters (m/s)'\n",
    "}"
   ]
  },
  {
   "cell_type": "markdown",
   "id": "mexican-postcard",
   "metadata": {},
   "source": [
    "## Southern Region"
   ]
  },
  {
   "cell_type": "code",
   "execution_count": null,
   "id": "authentic-lesson",
   "metadata": {},
   "outputs": [],
   "source": [
    "df_southern_mean.rename(columns=columns, inplace=True)"
   ]
  },
  {
   "cell_type": "code",
   "execution_count": null,
   "id": "covered-intake",
   "metadata": {},
   "outputs": [],
   "source": [
    "df_southern_mean"
   ]
  },
  {
   "cell_type": "code",
   "execution_count": null,
   "id": "prospective-specific",
   "metadata": {},
   "outputs": [],
   "source": [
    "# phase one and phase 2 seperation here\n",
    "phase1_southern_mean, phase2_southern_mean = phase_mask(df_southern_mean, \"2020-03-01\", \"2020-10-01\", \"2020-10-01\", \"2021-03-16\")"
   ]
  },
  {
   "cell_type": "code",
   "execution_count": null,
   "id": "secret-humidity",
   "metadata": {},
   "outputs": [],
   "source": [
    "# dropping columns here\n",
    "phase1_southern_mean = phase1_southern_mean.drop([\"recoveries\", \"mortalities\"], axis=1)\n",
    "phase2_southern_mean = phase2_southern_mean.drop([\"recoveries\", \"mortalities\"], axis=1)"
   ]
  },
  {
   "cell_type": "code",
   "execution_count": null,
   "id": "beginning-sweden",
   "metadata": {},
   "outputs": [],
   "source": [
    "fig, ax = line_plot(phase1_southern_mean, \"Southern region covid trend phase 1\")"
   ]
  },
  {
   "cell_type": "code",
   "execution_count": null,
   "id": "abstract-keyboard",
   "metadata": {},
   "outputs": [],
   "source": [
    "fig, ax = line_plot(phase2_southern_mean, \"Southern region covid trend phase 2\")"
   ]
  },
  {
   "cell_type": "code",
   "execution_count": null,
   "id": "female-rebel",
   "metadata": {},
   "outputs": [],
   "source": [
    "scatter_plot(df_southern_mean, \"cases\", columns[\"T2MDEW\"])"
   ]
  },
  {
   "cell_type": "code",
   "execution_count": null,
   "id": "neutral-christianity",
   "metadata": {},
   "outputs": [],
   "source": [
    "scatter_plot(df_southern_mean, \"cases\", columns[\"T2M_MAX\"]) "
   ]
  },
  {
   "cell_type": "code",
   "execution_count": null,
   "id": "after-nashville",
   "metadata": {},
   "outputs": [],
   "source": [
    "scatter_plot(df_southern_mean, \"cases\", columns[\"T2M_MIN\"])"
   ]
  },
  {
   "cell_type": "code",
   "execution_count": null,
   "id": "material-alexander",
   "metadata": {},
   "outputs": [],
   "source": [
    "scatter_plot(df_southern_mean, \"cases\", columns[\"T2M\"])"
   ]
  },
  {
   "cell_type": "code",
   "execution_count": null,
   "id": "rough-manhattan",
   "metadata": {},
   "outputs": [],
   "source": [
    "scatter_plot(df_southern_mean, \"cases\", columns[\"WS50M_RANGE\"])"
   ]
  },
  {
   "cell_type": "code",
   "execution_count": null,
   "id": "banner-conspiracy",
   "metadata": {},
   "outputs": [],
   "source": [
    "scatter_plot(df_southern_mean, \"cases\", columns[\"WS10M_RANGE\"])"
   ]
  },
  {
   "cell_type": "markdown",
   "id": "legislative-protocol",
   "metadata": {},
   "source": [
    "## Nothern Region"
   ]
  },
  {
   "cell_type": "code",
   "execution_count": null,
   "id": "blind-sherman",
   "metadata": {},
   "outputs": [],
   "source": [
    "df_northern_mean.rename(columns=columns, inplace=True)"
   ]
  },
  {
   "cell_type": "code",
   "execution_count": null,
   "id": "injured-insured",
   "metadata": {},
   "outputs": [],
   "source": [
    "df_northern_mean"
   ]
  },
  {
   "cell_type": "code",
   "execution_count": null,
   "id": "published-partition",
   "metadata": {},
   "outputs": [],
   "source": [
    "# phase one and phase 2 seperation here\n",
    "phase1_northern_mean, phase2_northern_mean = phase_mask(df_northern_mean, \"2020-03-01\", \"2020-10-01\", \"2020-10-01\", \"2021-03-16\")"
   ]
  },
  {
   "cell_type": "code",
   "execution_count": null,
   "id": "bored-christmas",
   "metadata": {},
   "outputs": [],
   "source": [
    "# dropping columns here\n",
    "phase1_northern_mean = phase1_northern_mean.drop([\"recoveries\", \"mortalities\"], axis=1)\n",
    "phase2_northern_mean = phase2_northern_mean.drop([\"recoveries\", \"mortalities\"], axis=1)"
   ]
  },
  {
   "cell_type": "code",
   "execution_count": null,
   "id": "early-inspection",
   "metadata": {},
   "outputs": [],
   "source": [
    "fig, ax = line_plot(phase1_northern_mean, \"Nothern region covid trend phase 1\")"
   ]
  },
  {
   "cell_type": "code",
   "execution_count": null,
   "id": "double-stamp",
   "metadata": {},
   "outputs": [],
   "source": [
    "fig, ax = line_plot(phase2_northern_mean, \"Nothern region covid trend phase 2\")"
   ]
  },
  {
   "cell_type": "code",
   "execution_count": null,
   "id": "genuine-surveillance",
   "metadata": {},
   "outputs": [],
   "source": [
    "scatter_plot(df_northern_mean, \"cases\", columns[\"T2MDEW\"])"
   ]
  },
  {
   "cell_type": "code",
   "execution_count": null,
   "id": "broad-korea",
   "metadata": {},
   "outputs": [],
   "source": [
    "scatter_plot(df_northern_mean, \"cases\", columns[\"T2M_MAX\"]) "
   ]
  },
  {
   "cell_type": "code",
   "execution_count": null,
   "id": "innovative-synthesis",
   "metadata": {},
   "outputs": [],
   "source": [
    "scatter_plot(df_northern_mean, \"cases\", columns[\"T2M_MIN\"])"
   ]
  },
  {
   "cell_type": "code",
   "execution_count": null,
   "id": "neither-lawrence",
   "metadata": {},
   "outputs": [],
   "source": [
    "scatter_plot(df_northern_mean, \"cases\", columns[\"T2M\"])"
   ]
  },
  {
   "cell_type": "code",
   "execution_count": null,
   "id": "thorough-person",
   "metadata": {},
   "outputs": [],
   "source": [
    "scatter_plot(df_northern_mean, \"cases\", columns[\"WS50M_RANGE\"])"
   ]
  },
  {
   "cell_type": "code",
   "execution_count": null,
   "id": "negative-topic",
   "metadata": {},
   "outputs": [],
   "source": [
    "scatter_plot(df_northern_mean, \"cases\", columns[\"WS10M_RANGE\"])"
   ]
  },
  {
   "cell_type": "markdown",
   "id": "employed-gather",
   "metadata": {},
   "source": [
    "## Eastern Region"
   ]
  },
  {
   "cell_type": "code",
   "execution_count": null,
   "id": "anonymous-racing",
   "metadata": {},
   "outputs": [],
   "source": [
    "df_eastern_mean.rename(columns=columns, inplace=True)"
   ]
  },
  {
   "cell_type": "code",
   "execution_count": null,
   "id": "scientific-liquid",
   "metadata": {},
   "outputs": [],
   "source": [
    "df_eastern_mean"
   ]
  },
  {
   "cell_type": "code",
   "execution_count": null,
   "id": "generic-jewelry",
   "metadata": {},
   "outputs": [],
   "source": [
    "# phase one and phase 2 seperation here\n",
    "phase1_eastern_mean, phase2_eastern_mean = phase_mask(df_eastern_mean, \"2020-03-01\", \"2020-10-01\", \"2020-10-01\", \"2021-03-16\")"
   ]
  },
  {
   "cell_type": "code",
   "execution_count": null,
   "id": "protecting-mobility",
   "metadata": {},
   "outputs": [],
   "source": [
    "# dropping columns here\n",
    "phase1_eastern_mean = phase1_eastern_mean.drop([\"recoveries\", \"mortalities\"], axis=1)\n",
    "phase2_eastern_mean = phase2_eastern_mean.drop([\"recoveries\", \"mortalities\"], axis=1)"
   ]
  },
  {
   "cell_type": "code",
   "execution_count": null,
   "id": "powered-pressure",
   "metadata": {},
   "outputs": [],
   "source": [
    "fig, ax = line_plot(phase1_eastern_mean, \"Eastern region covid trend phase 1\")"
   ]
  },
  {
   "cell_type": "code",
   "execution_count": null,
   "id": "desirable-beaver",
   "metadata": {},
   "outputs": [],
   "source": [
    "fig, ax = line_plot(phase2_eastern_mean, \"Eastern region covid trend phase 2\")"
   ]
  },
  {
   "cell_type": "code",
   "execution_count": null,
   "id": "mental-arizona",
   "metadata": {},
   "outputs": [],
   "source": [
    "scatter_plot(df_eastern_mean, \"cases\", columns[\"T2MDEW\"])"
   ]
  },
  {
   "cell_type": "code",
   "execution_count": null,
   "id": "formed-sitting",
   "metadata": {},
   "outputs": [],
   "source": [
    "scatter_plot(df_eastern_mean, \"cases\", columns[\"T2M_MAX\"]) "
   ]
  },
  {
   "cell_type": "code",
   "execution_count": null,
   "id": "black-worse",
   "metadata": {},
   "outputs": [],
   "source": [
    "scatter_plot(df_eastern_mean, \"cases\", columns[\"T2M_MIN\"])"
   ]
  },
  {
   "cell_type": "code",
   "execution_count": null,
   "id": "accepted-mobile",
   "metadata": {},
   "outputs": [],
   "source": [
    "scatter_plot(df_eastern_mean, \"cases\", columns[\"T2M\"])"
   ]
  },
  {
   "cell_type": "code",
   "execution_count": null,
   "id": "trying-times",
   "metadata": {},
   "outputs": [],
   "source": [
    "scatter_plot(df_eastern_mean, \"cases\", columns[\"WS50M_RANGE\"])"
   ]
  },
  {
   "cell_type": "code",
   "execution_count": null,
   "id": "comparative-trinity",
   "metadata": {},
   "outputs": [],
   "source": [
    "scatter_plot(df_eastern_mean, \"cases\", columns[\"WS10M_RANGE\"])"
   ]
  },
  {
   "cell_type": "markdown",
   "id": "micro-physics",
   "metadata": {},
   "source": [
    "## Western Region"
   ]
  },
  {
   "cell_type": "code",
   "execution_count": null,
   "id": "sticky-helping",
   "metadata": {},
   "outputs": [],
   "source": [
    "df_western_mean.rename(columns=columns, inplace=True)"
   ]
  },
  {
   "cell_type": "code",
   "execution_count": null,
   "id": "assisted-bumper",
   "metadata": {},
   "outputs": [],
   "source": [
    "df_western_mean"
   ]
  },
  {
   "cell_type": "code",
   "execution_count": null,
   "id": "laden-processing",
   "metadata": {},
   "outputs": [],
   "source": [
    "# phase one and phase 2 seperation here\n",
    "phase1_western_mean, phase2_western_mean = phase_mask(df_western_mean, \"2020-03-01\", \"2020-10-01\", \"2020-10-01\", \"2021-03-16\")"
   ]
  },
  {
   "cell_type": "code",
   "execution_count": null,
   "id": "democratic-repository",
   "metadata": {},
   "outputs": [],
   "source": [
    "# dropping columns here\n",
    "phase1_western_mean = phase1_western_mean.drop([\"recoveries\", \"mortalities\"], axis=1)\n",
    "phase2_western_mean = phase2_western_mean.drop([\"recoveries\", \"mortalities\"], axis=1)"
   ]
  },
  {
   "cell_type": "code",
   "execution_count": null,
   "id": "sought-daniel",
   "metadata": {},
   "outputs": [],
   "source": [
    "fig, ax = line_plot(df_western_mean, \"Western region covid trend phase 1\")"
   ]
  },
  {
   "cell_type": "code",
   "execution_count": null,
   "id": "modern-chart",
   "metadata": {},
   "outputs": [],
   "source": [
    "fig, ax = line_plot(df_western_mean, \"Western region covid trend phase 2\")"
   ]
  },
  {
   "cell_type": "code",
   "execution_count": null,
   "id": "divine-refund",
   "metadata": {},
   "outputs": [],
   "source": [
    "scatter_plot(df_western_mean, \"cases\", columns[\"RH2M\"]) "
   ]
  },
  {
   "cell_type": "code",
   "execution_count": null,
   "id": "failing-assumption",
   "metadata": {},
   "outputs": [],
   "source": [
    "scatter_plot(df_western_mean, \"cases\", columns[\"T2MDEW\"])"
   ]
  },
  {
   "cell_type": "code",
   "execution_count": null,
   "id": "innocent-collins",
   "metadata": {},
   "outputs": [],
   "source": [
    "scatter_plot(df_western_mean, \"cases\", columns[\"T2M_MAX\"]) "
   ]
  },
  {
   "cell_type": "code",
   "execution_count": null,
   "id": "grave-bracket",
   "metadata": {},
   "outputs": [],
   "source": [
    "scatter_plot(df_western_mean, \"cases\", columns[\"T2M_MIN\"])"
   ]
  },
  {
   "cell_type": "code",
   "execution_count": null,
   "id": "excellent-defeat",
   "metadata": {},
   "outputs": [],
   "source": [
    "scatter_plot(df_western_mean, \"cases\", columns[\"T2M\"])"
   ]
  },
  {
   "cell_type": "code",
   "execution_count": null,
   "id": "palestinian-banks",
   "metadata": {},
   "outputs": [],
   "source": [
    "scatter_plot(df_western_mean, \"cases\", columns[\"WS50M_RANGE\"])"
   ]
  },
  {
   "cell_type": "code",
   "execution_count": null,
   "id": "environmental-moral",
   "metadata": {},
   "outputs": [],
   "source": [
    "scatter_plot(df_western_mean, \"cases\", columns[\"WS10M_RANGE\"])"
   ]
  },
  {
   "cell_type": "markdown",
   "id": "alpha-desire",
   "metadata": {},
   "source": [
    "## Riyadh Region"
   ]
  },
  {
   "cell_type": "code",
   "execution_count": null,
   "id": "opponent-gates",
   "metadata": {},
   "outputs": [],
   "source": [
    "riyadh_columns = {'RH2M':'Relative Humidity at 2 Meters (%)',\n",
    "                  'PS': 'Surface Pressure (kPa)',\n",
    "                  'T2M_MAX': 'Maximum Temperature at 2 Meters (C)',\n",
    "                  'T2M_MIN' :'Minimum Temperature at 2 Meters (C)',\n",
    "                  'WS50M': 'Wind Speed Range at 50 Meters (m/s)',\n",
    "                  'WS10M': 'Wind Speed Range at 10 Meters (m/s)'\n",
    "}"
   ]
  },
  {
   "cell_type": "code",
   "execution_count": null,
   "id": "becoming-method",
   "metadata": {},
   "outputs": [],
   "source": [
    "# cleaning up the data\n",
    "df_riyadh.drop([\"LAT\", \"LON\", \"YEAR\", \"MO\", \"DY\"], axis=1, inplace=True)\n",
    "df_riyadh.index = df_riyadh[\"DATE\"]\n",
    "df_riyadh.drop([\"DATE\"], axis=1, inplace=True)\n",
    "df_riyadh.drop(df_riyadh.tail(2).index,inplace=True)"
   ]
  },
  {
   "cell_type": "code",
   "execution_count": null,
   "id": "detected-scheduling",
   "metadata": {},
   "outputs": [],
   "source": [
    "# renaming columns\n",
    "df_riyadh.rename(columns=riyadh_columns, inplace=True)"
   ]
  },
  {
   "cell_type": "code",
   "execution_count": null,
   "id": "consolidated-organizer",
   "metadata": {},
   "outputs": [],
   "source": [
    "df_riyadh"
   ]
  },
  {
   "cell_type": "code",
   "execution_count": null,
   "id": "british-processing",
   "metadata": {},
   "outputs": [],
   "source": [
    "# phase one and phase 2 seperation here\n",
    "phase1_riyadh, phase2_riyadh = phase_mask(df_riyadh, \"2020-03-01\", \"2020-10-01\", \"2020-10-01\", \"2021-03-16\")"
   ]
  },
  {
   "cell_type": "code",
   "execution_count": null,
   "id": "extended-binding",
   "metadata": {},
   "outputs": [],
   "source": [
    "# dropping columns here\n",
    "phase1_riyadh = phase1_riyadh.drop([\"recoveries\", \"mortalities\"], axis=1)\n",
    "phase2_riyadh = phase2_riyadh.drop([\"recoveries\", \"mortalities\"], axis=1)"
   ]
  },
  {
   "cell_type": "code",
   "execution_count": null,
   "id": "simple-unknown",
   "metadata": {},
   "outputs": [],
   "source": [
    "fig, ax = line_plot(phase1_riyadh, \"Riyadh region covid trend phase 1\")"
   ]
  },
  {
   "cell_type": "code",
   "execution_count": null,
   "id": "inappropriate-archive",
   "metadata": {},
   "outputs": [],
   "source": [
    "fig, ax = line_plot(phase2_riyadh, \"Riyadh region covid trend phase 2\")"
   ]
  },
  {
   "cell_type": "code",
   "execution_count": null,
   "id": "robust-mitchell",
   "metadata": {},
   "outputs": [],
   "source": [
    "scatter_plot(df_riyadh, \"cases\", riyadh_columns[\"RH2M\"])"
   ]
  },
  {
   "cell_type": "code",
   "execution_count": null,
   "id": "everyday-format",
   "metadata": {},
   "outputs": [],
   "source": [
    "scatter_plot(df_riyadh, \"cases\", riyadh_columns[\"PS\"])"
   ]
  },
  {
   "cell_type": "code",
   "execution_count": null,
   "id": "tough-fields",
   "metadata": {},
   "outputs": [],
   "source": [
    "scatter_plot(df_riyadh, \"cases\", riyadh_columns[\"T2M_MAX\"]) "
   ]
  },
  {
   "cell_type": "code",
   "execution_count": null,
   "id": "durable-timber",
   "metadata": {},
   "outputs": [],
   "source": [
    "scatter_plot(df_riyadh, \"cases\", riyadh_columns[\"T2M_MIN\"])"
   ]
  },
  {
   "cell_type": "code",
   "execution_count": null,
   "id": "engaging-washington",
   "metadata": {},
   "outputs": [],
   "source": [
    "scatter_plot(df_riyadh, \"cases\", riyadh_columns[\"WS50M\"])"
   ]
  },
  {
   "cell_type": "code",
   "execution_count": null,
   "id": "senior-causing",
   "metadata": {},
   "outputs": [],
   "source": [
    "scatter_plot(df_riyadh, \"cases\", riyadh_columns[\"WS10M\"])"
   ]
  },
  {
   "cell_type": "markdown",
   "id": "informal-myanmar",
   "metadata": {},
   "source": [
    "## Converting region dataframes into excel files"
   ]
  },
  {
   "cell_type": "code",
   "execution_count": null,
   "id": "random-watch",
   "metadata": {},
   "outputs": [],
   "source": [
    "df_southern_mean.to_excel(\"Southern_weather_cases.xlsx\") \n",
    "df_northern_mean.to_excel(\"northern_weather_cases.xlsx\") \n",
    "df_eastern_mean.to_excel(\"eastern_weather_cases.xlsx\") \n",
    "df_western_mean.to_excel(\"western_weather_cases.xlsx\")\n",
    "df_riyadh.to_excel(\"Riyadh_weather_cases.xlsx\") "
   ]
  }
 ],
 "metadata": {
  "kernelspec": {
   "display_name": "Python 3",
   "language": "python",
   "name": "python3"
  },
  "language_info": {
   "codemirror_mode": {
    "name": "ipython",
    "version": 3
   },
   "file_extension": ".py",
   "mimetype": "text/x-python",
   "name": "python",
   "nbconvert_exporter": "python",
   "pygments_lexer": "ipython3",
   "version": "3.9.2"
  }
 },
 "nbformat": 4,
 "nbformat_minor": 5
}
