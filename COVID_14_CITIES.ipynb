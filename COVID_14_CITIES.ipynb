{
 "cells": [
  {
   "cell_type": "code",
   "execution_count": 88,
   "metadata": {},
   "outputs": [],
   "source": [
    "import os\n",
    "import matplotlib.pyplot as plt\n",
    "import matplotlib.dates as mdates\n",
    "from matplotlib.dates import DateFormatter\n",
    "import seaborn as sns\n",
    "import pandas as pd\n",
    "\n",
    "from pandas.plotting import register_matplotlib_converters\n",
    "register_matplotlib_converters()\n",
    "\n",
    "# Use dark grid plot background from seaborn\n",
    "sns.set(font_scale=1.5, style=\"darkgrid\")"
   ]
  },
  {
   "cell_type": "code",
   "execution_count": 89,
   "metadata": {},
   "outputs": [],
   "source": [
    "'''\n",
    "\n",
    "NASA/POWER SRB/FLASHFlux/MERRA2/GEOS 5.12.4 (FP-IT) 0.5 x 0.5 Degree Daily Averaged Data \n",
    "\n",
    "Dates (month/day/year): 03/01/2020 through 03/18/2021\n",
    "\n",
    "Location: Latitude  26.921   Longitude 49.5992\n",
    "\n",
    "Elevation from MERRA-2: Average for 1/2x1/2 degree lat/lon region = 24.51 meters   Site = na\n",
    "\n",
    "Climate zone: na (reference Briggs et al: http://www.energycodes.gov)\n",
    "Value for missing model data cannot be computed or out of model availability range: -999\n",
    "\n",
    "\n",
    "Parameter(s):\n",
    "PRECTOT       Precipitation (mm day-1)\n",
    "\n",
    "RH2M          Relative Humidity at 2 Meters (%)\n",
    "\n",
    "WS50M_RANGE   Wind Speed Range at 50 Meters (m/s)\n",
    "\n",
    "WS10M_RANGE   Wind Speed Range at 10 Meters (m/s)\n",
    "\n",
    "T2M           Temperature at 2 Meters (C)\n",
    "\n",
    "T2MDEW        Dew/Frost Point at 2 Meters (C)\n",
    "\n",
    "T2M_MAX       Maximum Temperature at 2 Meters (C)\n",
    "\n",
    "T2M_MIN       Minimum Temperature at 2 Meters (C)\n",
    "\n",
    "''';"
   ]
  },
  {
   "cell_type": "code",
   "execution_count": 108,
   "metadata": {},
   "outputs": [],
   "source": [
    "xls = pd.ExcelFile('14_Cities_weather_cases.xlsx')\n",
    "df_abha = pd.read_excel(xls, 'abha')\n",
    "df_najran = pd.read_excel(xls, 'najran')\n",
    "df_sharoura = pd.read_excel(xls, 'sharoura')\n",
    "df_qurayat = pd.read_excel(xls, 'qurayat')\n",
    "df_tabuk = pd.read_excel(xls, 'tabuk')\n",
    "df_hail = pd.read_excel(xls, 'hail')\n",
    "df_jed = pd.read_excel(xls, 'JED')\n",
    "df_mak = pd.read_excel(xls, 'MAK')\n",
    "df_taif = pd.read_excel(xls, 'TAIF')\n",
    "df_madina = pd.read_excel(xls, 'MAD')\n",
    "df_riyadh = pd.read_excel(xls, 'RUH')\n",
    "df_dam = pd.read_excel(xls, 'DAM')\n",
    "df_hofuf = pd.read_excel(xls, 'HOFUF') \n",
    "df_jubail = pd.read_excel(xls, 'JUBAIL')\n",
    "df_dam.rename({\"datae\":\"date\"}, axis=1, inplace=True)"
   ]
  },
  {
   "cell_type": "code",
   "execution_count": 109,
   "metadata": {},
   "outputs": [],
   "source": [
    "df_list = [\n",
    "    df_abha, df_najran, df_sharoura, df_qurayat, df_tabuk, df_hail, df_jed, \n",
    "    df_mak, df_taif, df_madina, df_riyadh, df_dam, df_hofuf, df_jubail\n",
    "]"
   ]
  },
  {
   "cell_type": "code",
   "execution_count": 112,
   "metadata": {},
   "outputs": [
    {
     "output_type": "execute_result",
     "data": {
      "text/plain": [
       "            PRECTOT   RH2M  T2MDEW  T2M_MAX  T2M_MIN    T2M  WS50M_RANGE  \\\n",
       "date                                                                       \n",
       "2020-03-01      0.0  37.99    8.54    31.40    18.28  23.79         4.30   \n",
       "2020-03-02      0.0  26.15    3.71    33.99    17.44  24.45         5.01   \n",
       "2020-03-03      0.0  34.03    8.42    33.07    19.27  25.51         5.11   \n",
       "2020-03-04      0.0  54.95   16.00    31.64    21.50  25.63         5.25   \n",
       "2020-03-05      0.0  56.52   16.34    32.17    20.69  25.52         2.45   \n",
       "...             ...    ...     ...      ...      ...    ...          ...   \n",
       "2021-03-12      0.0  37.53   12.17    35.14    22.97  28.07         2.61   \n",
       "2021-03-13      0.0  38.93   12.30    34.93    21.66  27.57         4.27   \n",
       "2021-03-14      0.0  40.34   12.84    34.46    22.26  27.55         7.34   \n",
       "2021-03-15      0.0  44.34   14.10    34.63    21.54  27.29         6.76   \n",
       "2021-03-16      0.0  36.78   11.34    35.19    21.72  27.48         7.30   \n",
       "\n",
       "            WS10M_RANGE  cases  recoveries  mortalities  \n",
       "date                                                     \n",
       "2020-03-01         5.14    NaN         NaN          NaN  \n",
       "2020-03-02         3.40    NaN         NaN          NaN  \n",
       "2020-03-03         4.52    NaN         NaN          NaN  \n",
       "2020-03-04         5.58    NaN         NaN          NaN  \n",
       "2020-03-05         3.62    NaN         NaN          NaN  \n",
       "...                 ...    ...         ...          ...  \n",
       "2021-03-12         3.61   16.0        38.0          NaN  \n",
       "2021-03-13         4.43   19.0        19.0          NaN  \n",
       "2021-03-14         7.02   20.0         7.0          NaN  \n",
       "2021-03-15         6.87   24.0         8.0          NaN  \n",
       "2021-03-16         7.35   19.0        12.0          NaN  \n",
       "\n",
       "[381 rows x 11 columns]"
      ],
      "text/html": "<div>\n<style scoped>\n    .dataframe tbody tr th:only-of-type {\n        vertical-align: middle;\n    }\n\n    .dataframe tbody tr th {\n        vertical-align: top;\n    }\n\n    .dataframe thead th {\n        text-align: right;\n    }\n</style>\n<table border=\"1\" class=\"dataframe\">\n  <thead>\n    <tr style=\"text-align: right;\">\n      <th></th>\n      <th>PRECTOT</th>\n      <th>RH2M</th>\n      <th>T2MDEW</th>\n      <th>T2M_MAX</th>\n      <th>T2M_MIN</th>\n      <th>T2M</th>\n      <th>WS50M_RANGE</th>\n      <th>WS10M_RANGE</th>\n      <th>cases</th>\n      <th>recoveries</th>\n      <th>mortalities</th>\n    </tr>\n    <tr>\n      <th>date</th>\n      <th></th>\n      <th></th>\n      <th></th>\n      <th></th>\n      <th></th>\n      <th></th>\n      <th></th>\n      <th></th>\n      <th></th>\n      <th></th>\n      <th></th>\n    </tr>\n  </thead>\n  <tbody>\n    <tr>\n      <th>2020-03-01</th>\n      <td>0.0</td>\n      <td>37.99</td>\n      <td>8.54</td>\n      <td>31.40</td>\n      <td>18.28</td>\n      <td>23.79</td>\n      <td>4.30</td>\n      <td>5.14</td>\n      <td>NaN</td>\n      <td>NaN</td>\n      <td>NaN</td>\n    </tr>\n    <tr>\n      <th>2020-03-02</th>\n      <td>0.0</td>\n      <td>26.15</td>\n      <td>3.71</td>\n      <td>33.99</td>\n      <td>17.44</td>\n      <td>24.45</td>\n      <td>5.01</td>\n      <td>3.40</td>\n      <td>NaN</td>\n      <td>NaN</td>\n      <td>NaN</td>\n    </tr>\n    <tr>\n      <th>2020-03-03</th>\n      <td>0.0</td>\n      <td>34.03</td>\n      <td>8.42</td>\n      <td>33.07</td>\n      <td>19.27</td>\n      <td>25.51</td>\n      <td>5.11</td>\n      <td>4.52</td>\n      <td>NaN</td>\n      <td>NaN</td>\n      <td>NaN</td>\n    </tr>\n    <tr>\n      <th>2020-03-04</th>\n      <td>0.0</td>\n      <td>54.95</td>\n      <td>16.00</td>\n      <td>31.64</td>\n      <td>21.50</td>\n      <td>25.63</td>\n      <td>5.25</td>\n      <td>5.58</td>\n      <td>NaN</td>\n      <td>NaN</td>\n      <td>NaN</td>\n    </tr>\n    <tr>\n      <th>2020-03-05</th>\n      <td>0.0</td>\n      <td>56.52</td>\n      <td>16.34</td>\n      <td>32.17</td>\n      <td>20.69</td>\n      <td>25.52</td>\n      <td>2.45</td>\n      <td>3.62</td>\n      <td>NaN</td>\n      <td>NaN</td>\n      <td>NaN</td>\n    </tr>\n    <tr>\n      <th>...</th>\n      <td>...</td>\n      <td>...</td>\n      <td>...</td>\n      <td>...</td>\n      <td>...</td>\n      <td>...</td>\n      <td>...</td>\n      <td>...</td>\n      <td>...</td>\n      <td>...</td>\n      <td>...</td>\n    </tr>\n    <tr>\n      <th>2021-03-12</th>\n      <td>0.0</td>\n      <td>37.53</td>\n      <td>12.17</td>\n      <td>35.14</td>\n      <td>22.97</td>\n      <td>28.07</td>\n      <td>2.61</td>\n      <td>3.61</td>\n      <td>16.0</td>\n      <td>38.0</td>\n      <td>NaN</td>\n    </tr>\n    <tr>\n      <th>2021-03-13</th>\n      <td>0.0</td>\n      <td>38.93</td>\n      <td>12.30</td>\n      <td>34.93</td>\n      <td>21.66</td>\n      <td>27.57</td>\n      <td>4.27</td>\n      <td>4.43</td>\n      <td>19.0</td>\n      <td>19.0</td>\n      <td>NaN</td>\n    </tr>\n    <tr>\n      <th>2021-03-14</th>\n      <td>0.0</td>\n      <td>40.34</td>\n      <td>12.84</td>\n      <td>34.46</td>\n      <td>22.26</td>\n      <td>27.55</td>\n      <td>7.34</td>\n      <td>7.02</td>\n      <td>20.0</td>\n      <td>7.0</td>\n      <td>NaN</td>\n    </tr>\n    <tr>\n      <th>2021-03-15</th>\n      <td>0.0</td>\n      <td>44.34</td>\n      <td>14.10</td>\n      <td>34.63</td>\n      <td>21.54</td>\n      <td>27.29</td>\n      <td>6.76</td>\n      <td>6.87</td>\n      <td>24.0</td>\n      <td>8.0</td>\n      <td>NaN</td>\n    </tr>\n    <tr>\n      <th>2021-03-16</th>\n      <td>0.0</td>\n      <td>36.78</td>\n      <td>11.34</td>\n      <td>35.19</td>\n      <td>21.72</td>\n      <td>27.48</td>\n      <td>7.30</td>\n      <td>7.35</td>\n      <td>19.0</td>\n      <td>12.0</td>\n      <td>NaN</td>\n    </tr>\n  </tbody>\n</table>\n<p>381 rows × 11 columns</p>\n</div>"
     },
     "metadata": {},
     "execution_count": 112
    }
   ],
   "source": [
    "\n",
    "df_mak"
   ]
  },
  {
   "cell_type": "markdown",
   "metadata": {},
   "source": [
    "#### Aggregate opperations"
   ]
  },
  {
   "cell_type": "code",
   "execution_count": 111,
   "metadata": {},
   "outputs": [],
   "source": [
    "for df in df_list:\n",
    "    df.drop([\"LAT\", \"LON\", \"YEAR\", \"MO\", \"DY\"], axis=1, inplace=True)\n",
    "    try:\n",
    "        df.index = df[\"date\"]\n",
    "        df.drop([\"date\"], axis=1, inplace=True)\n",
    "    except KeyError:\n",
    "        df.index = df[\"DATE\"]\n",
    "        df.drop([\"DATE\"], axis=1, inplace=True)\n",
    "    df.drop(df.tail(2).index,inplace=True)\n"
   ]
  },
  {
   "cell_type": "code",
   "execution_count": null,
   "metadata": {},
   "outputs": [],
   "source": []
  },
  {
   "cell_type": "markdown",
   "metadata": {},
   "source": [
    "#### Functions and variables"
   ]
  },
  {
   "cell_type": "code",
   "execution_count": 70,
   "metadata": {},
   "outputs": [],
   "source": [
    "phase1start = pd.to_datetime(\"2020-03-01\").date()\n",
    "phase1end = pd.to_datetime(\"2020-08-01\").date()\n",
    "phase2start = pd.to_datetime(\"2020-08-01\").date()\n",
    "phase2end = pd.to_datetime(\"2021-03-18\").date()"
   ]
  },
  {
   "cell_type": "code",
   "execution_count": 71,
   "metadata": {},
   "outputs": [],
   "source": [
    "def plot(df, title, xlabel=\"Months\", ylabel=\"Values\"):\n",
    "    fig, ax = plt.subplots(figsize=(12, 12))\n",
    "    ax.plot(df)\n",
    "    date_form = DateFormatter(\"%m\")\n",
    "\n",
    "    ax.xaxis.set_major_formatter(date_form)\n",
    "    ax.legend(df.columns.tolist(), loc='center left', bbox_to_anchor=(1, .5))\n",
    "\n",
    "    ax.set(xlabel=xlabel,\n",
    "           ylabel=ylabel,\n",
    "           title=title)\n",
    "    return fig, ax"
   ]
  },
  {
   "cell_type": "code",
   "execution_count": 82,
   "metadata": {},
   "outputs": [],
   "source": []
  },
  {
   "source": [
    "## ABHA "
   ],
   "cell_type": "markdown",
   "metadata": {}
  },
  {
   "cell_type": "code",
   "execution_count": null,
   "metadata": {},
   "outputs": [],
   "source": []
  },
  {
   "cell_type": "code",
   "execution_count": null,
   "metadata": {},
   "outputs": [],
   "source": []
  },
  {
   "cell_type": "code",
   "execution_count": null,
   "metadata": {},
   "outputs": [],
   "source": []
  },
  {
   "cell_type": "code",
   "execution_count": null,
   "metadata": {},
   "outputs": [],
   "source": []
  },
  {
   "cell_type": "code",
   "execution_count": null,
   "metadata": {},
   "outputs": [],
   "source": []
  },
  {
   "cell_type": "code",
   "execution_count": null,
   "metadata": {},
   "outputs": [],
   "source": []
  },
  {
   "cell_type": "code",
   "execution_count": null,
   "metadata": {},
   "outputs": [],
   "source": []
  },
  {
   "cell_type": "code",
   "execution_count": null,
   "metadata": {},
   "outputs": [],
   "source": []
  },
  {
   "cell_type": "code",
   "execution_count": null,
   "metadata": {},
   "outputs": [],
   "source": []
  },
  {
   "cell_type": "code",
   "execution_count": null,
   "metadata": {},
   "outputs": [],
   "source": []
  },
  {
   "cell_type": "code",
   "execution_count": null,
   "metadata": {},
   "outputs": [],
   "source": []
  },
  {
   "cell_type": "code",
   "execution_count": null,
   "metadata": {},
   "outputs": [],
   "source": []
  },
  {
   "cell_type": "code",
   "execution_count": null,
   "metadata": {},
   "outputs": [],
   "source": []
  },
  {
   "cell_type": "code",
   "execution_count": null,
   "metadata": {},
   "outputs": [],
   "source": []
  },
  {
   "cell_type": "code",
   "execution_count": null,
   "metadata": {},
   "outputs": [],
   "source": []
  },
  {
   "cell_type": "code",
   "execution_count": null,
   "metadata": {},
   "outputs": [],
   "source": []
  },
  {
   "cell_type": "code",
   "execution_count": null,
   "metadata": {},
   "outputs": [],
   "source": []
  },
  {
   "cell_type": "code",
   "execution_count": null,
   "metadata": {},
   "outputs": [],
   "source": []
  },
  {
   "cell_type": "code",
   "execution_count": null,
   "metadata": {},
   "outputs": [],
   "source": []
  },
  {
   "cell_type": "code",
   "execution_count": null,
   "metadata": {},
   "outputs": [],
   "source": []
  },
  {
   "cell_type": "code",
   "execution_count": null,
   "metadata": {},
   "outputs": [],
   "source": []
  },
  {
   "cell_type": "code",
   "execution_count": null,
   "metadata": {},
   "outputs": [],
   "source": []
  },
  {
   "cell_type": "code",
   "execution_count": null,
   "metadata": {},
   "outputs": [],
   "source": []
  },
  {
   "cell_type": "code",
   "execution_count": null,
   "metadata": {},
   "outputs": [],
   "source": []
  },
  {
   "cell_type": "code",
   "execution_count": null,
   "metadata": {},
   "outputs": [],
   "source": []
  },
  {
   "cell_type": "code",
   "execution_count": null,
   "metadata": {},
   "outputs": [],
   "source": []
  },
  {
   "cell_type": "code",
   "execution_count": null,
   "metadata": {},
   "outputs": [],
   "source": []
  },
  {
   "cell_type": "code",
   "execution_count": null,
   "metadata": {},
   "outputs": [],
   "source": []
  },
  {
   "cell_type": "code",
   "execution_count": null,
   "metadata": {},
   "outputs": [],
   "source": []
  },
  {
   "cell_type": "code",
   "execution_count": null,
   "metadata": {},
   "outputs": [],
   "source": []
  },
  {
   "cell_type": "code",
   "execution_count": null,
   "metadata": {},
   "outputs": [],
   "source": []
  },
  {
   "cell_type": "code",
   "execution_count": null,
   "metadata": {},
   "outputs": [],
   "source": []
  },
  {
   "cell_type": "code",
   "execution_count": null,
   "metadata": {},
   "outputs": [],
   "source": []
  },
  {
   "cell_type": "code",
   "execution_count": null,
   "metadata": {},
   "outputs": [],
   "source": []
  },
  {
   "cell_type": "code",
   "execution_count": null,
   "metadata": {},
   "outputs": [],
   "source": []
  }
 ],
 "metadata": {
  "kernelspec": {
   "display_name": "Python 3",
   "language": "python",
   "name": "python3"
  },
  "language_info": {
   "codemirror_mode": {
    "name": "ipython",
    "version": 3
   },
   "file_extension": ".py",
   "mimetype": "text/x-python",
   "name": "python",
   "nbconvert_exporter": "python",
   "pygments_lexer": "ipython3",
   "version": "3.9.2-final"
  }
 },
 "nbformat": 4,
 "nbformat_minor": 4
}