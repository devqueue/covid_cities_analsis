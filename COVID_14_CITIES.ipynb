{
 "cells": [
  {
   "cell_type": "code",
   "execution_count": 9,
   "metadata": {},
   "outputs": [],
   "source": [
    "import os\n",
    "import matplotlib.pyplot as plt\n",
    "import matplotlib.dates as mdates\n",
    "from matplotlib.dates import DateFormatter\n",
    "import seaborn as sns\n",
    "import pandas as pd\n",
    "\n",
    "from pandas.plotting import register_matplotlib_converters\n",
    "register_matplotlib_converters()\n",
    "\n",
    "# Use white grid plot background from seaborn\n",
    "sns.set(font_scale=1.5, style=\"whitegrid\")"
   ]
  },
  {
   "cell_type": "code",
   "execution_count": 10,
   "metadata": {},
   "outputs": [],
   "source": [
    "'''\n",
    "\n",
    "NASA/POWER SRB/FLASHFlux/MERRA2/GEOS 5.12.4 (FP-IT) 0.5 x 0.5 Degree Daily Averaged Data \n",
    "\n",
    "Dates (month/day/year): 03/01/2020 through 03/18/2021\n",
    "\n",
    "Location: Latitude  26.921   Longitude 49.5992\n",
    "\n",
    "Elevation from MERRA-2: Average for 1/2x1/2 degree lat/lon region = 24.51 meters   Site = na\n",
    "\n",
    "Climate zone: na (reference Briggs et al: http://www.energycodes.gov)\n",
    "Value for missing model data cannot be computed or out of model availability range: -999\n",
    "\n",
    "\n",
    "Parameter(s):\n",
    "PRECTOT MERRA2 1/2x1/2 Precipitation (mm day-1)\n",
    "\n",
    "RH2M MERRA2 1/2x1/2 Relative Humidity at 2 Meters (%)\n",
    "\n",
    "WS50M_RANGE MERRA2 1/2x1/2 Wind Speed Range at 50 Meters (m/s)\n",
    "\n",
    "T2M_MIN MERRA2 1/2x1/2 Minimum Temperature at 2 Meters (C)\n",
    "\n",
    "WS10M_RANGE MERRA2 1/2x1/2 Wind Speed Range at 10 Meters (m/s)\n",
    "\n",
    "T2M MERRA2 1/2x1/2 Temperature at 2 Meters (C)\n",
    "\n",
    "T2MDEW MERRA2 1/2x1/2 Dew/Frost Point at 2 Meters (C)\n",
    "\n",
    "T2M_MAX MERRA2 1/2x1/2 Maximum Temperature at 2 Meters (C)\n",
    "\n",
    "''';"
   ]
  },
  {
   "cell_type": "code",
   "execution_count": 14,
   "metadata": {},
   "outputs": [],
   "source": [
    "xls = pd.ExcelFile('14_Cities_weather_cases.xlsx')\n",
    "df_abha = pd.read_excel(xls, 'abha')\n",
    "df_najran = pd.read_excel(xls, 'najran')\n",
    "df_sharoura = pd.read_excel(xls, 'sharoura')\n",
    "df_qurayat = pd.read_excel(xls, 'qurayat')\n",
    "df_tabuk = pd.read_excel(xls, 'tabuk')\n",
    "df_hail = pd.read_excel(xls, 'hail')\n",
    "df_jed = pd.read_excel(xls, 'JED')\n",
    "df_mak = pd.read_excel(xls, 'MAK')\n",
    "df_taif = pd.read_excel(xls, 'TAIF')\n",
    "df_madina = pd.read_excel(xls, 'MAD')\n",
    "df_riyadh = pd.read_excel(xls, 'RUH')\n",
    "df_dam = pd.read_excel(xls, 'DAM')\n",
    "df_hofuf = pd.read_excel(xls, 'HOFUF') \n",
    "df_jubail = pd.read_excel(xls, 'JUBAIL')"
   ]
  },
  {
   "cell_type": "code",
   "execution_count": 15,
   "metadata": {},
   "outputs": [],
   "source": [
    "df_list = [\n",
    "    df_abha, df_najran, df_sharoura, df_qurayat, df_tabuk, df_hail, df_jed, \n",
    "    df_mak, df_taif, df_madina, df_riyadh, df_dam, df_hofuf, df_jubail\n",
    "]"
   ]
  },
  {
   "cell_type": "markdown",
   "metadata": {},
   "source": [
    "#### Aggregate opperations"
   ]
  },
  {
   "cell_type": "code",
   "execution_count": null,
   "metadata": {},
   "outputs": [],
   "source": []
  },
  {
   "cell_type": "code",
   "execution_count": null,
   "metadata": {},
   "outputs": [],
   "source": []
  },
  {
   "cell_type": "code",
   "execution_count": null,
   "metadata": {},
   "outputs": [],
   "source": []
  },
  {
   "cell_type": "markdown",
   "metadata": {},
   "source": [
    "#### Functions and variables"
   ]
  },
  {
   "cell_type": "code",
   "execution_count": 21,
   "metadata": {},
   "outputs": [],
   "source": [
    "def plot(df, title, xlabel=\"Months\", ylabel=\"Values\"):\n",
    "    fig, ax = plt.subplots(figsize=(12, 12))\n",
    "    ax.plot(df)\n",
    "    date_form = DateFormatter(\"%m\")\n",
    "\n",
    "    ax.xaxis.set_major_formatter(date_form)\n",
    "    ax.legend(df.columns.tolist(), loc='center left', bbox_to_anchor=(1, .5))\n",
    "\n",
    "    ax.set(xlabel=xlabel,\n",
    "           ylabel=ylabel,\n",
    "           title=title)\n",
    "    return fig, ax"
   ]
  },
  {
   "cell_type": "code",
   "execution_count": null,
   "metadata": {},
   "outputs": [],
   "source": []
  },
  {
   "cell_type": "code",
   "execution_count": null,
   "metadata": {},
   "outputs": [],
   "source": []
  },
  {
   "cell_type": "code",
   "execution_count": 20,
   "metadata": {},
   "outputs": [],
   "source": [
    "phase1start = pd.to_datetime(\"2020-03-01\").date()\n",
    "phase1end = pd.to_datetime(\"2020-08-01\").date()\n",
    "phase2start = pd.to_datetime(\"2020-08-01\").date()\n",
    "phase2end = pd.to_datetime(\"2021-03-18\").date()"
   ]
  },
  {
   "cell_type": "code",
   "execution_count": null,
   "metadata": {},
   "outputs": [],
   "source": []
  },
  {
   "cell_type": "code",
   "execution_count": null,
   "metadata": {},
   "outputs": [],
   "source": []
  },
  {
   "cell_type": "code",
   "execution_count": null,
   "metadata": {},
   "outputs": [],
   "source": []
  },
  {
   "cell_type": "code",
   "execution_count": null,
   "metadata": {},
   "outputs": [],
   "source": []
  },
  {
   "cell_type": "code",
   "execution_count": null,
   "metadata": {},
   "outputs": [],
   "source": []
  },
  {
   "cell_type": "code",
   "execution_count": null,
   "metadata": {},
   "outputs": [],
   "source": []
  },
  {
   "cell_type": "code",
   "execution_count": null,
   "metadata": {},
   "outputs": [],
   "source": []
  },
  {
   "cell_type": "code",
   "execution_count": null,
   "metadata": {},
   "outputs": [],
   "source": []
  },
  {
   "cell_type": "code",
   "execution_count": null,
   "metadata": {},
   "outputs": [],
   "source": []
  },
  {
   "cell_type": "code",
   "execution_count": null,
   "metadata": {},
   "outputs": [],
   "source": []
  },
  {
   "cell_type": "code",
   "execution_count": null,
   "metadata": {},
   "outputs": [],
   "source": []
  },
  {
   "cell_type": "code",
   "execution_count": null,
   "metadata": {},
   "outputs": [],
   "source": []
  },
  {
   "cell_type": "code",
   "execution_count": null,
   "metadata": {},
   "outputs": [],
   "source": []
  },
  {
   "cell_type": "code",
   "execution_count": null,
   "metadata": {},
   "outputs": [],
   "source": []
  },
  {
   "cell_type": "code",
   "execution_count": null,
   "metadata": {},
   "outputs": [],
   "source": []
  },
  {
   "cell_type": "code",
   "execution_count": null,
   "metadata": {},
   "outputs": [],
   "source": []
  },
  {
   "cell_type": "code",
   "execution_count": null,
   "metadata": {},
   "outputs": [],
   "source": []
  },
  {
   "cell_type": "code",
   "execution_count": null,
   "metadata": {},
   "outputs": [],
   "source": []
  },
  {
   "cell_type": "code",
   "execution_count": null,
   "metadata": {},
   "outputs": [],
   "source": []
  },
  {
   "cell_type": "code",
   "execution_count": null,
   "metadata": {},
   "outputs": [],
   "source": []
  },
  {
   "cell_type": "code",
   "execution_count": null,
   "metadata": {},
   "outputs": [],
   "source": []
  },
  {
   "cell_type": "code",
   "execution_count": null,
   "metadata": {},
   "outputs": [],
   "source": []
  },
  {
   "cell_type": "code",
   "execution_count": null,
   "metadata": {},
   "outputs": [],
   "source": []
  },
  {
   "cell_type": "code",
   "execution_count": null,
   "metadata": {},
   "outputs": [],
   "source": []
  },
  {
   "cell_type": "code",
   "execution_count": null,
   "metadata": {},
   "outputs": [],
   "source": []
  },
  {
   "cell_type": "code",
   "execution_count": null,
   "metadata": {},
   "outputs": [],
   "source": []
  },
  {
   "cell_type": "code",
   "execution_count": null,
   "metadata": {},
   "outputs": [],
   "source": []
  },
  {
   "cell_type": "code",
   "execution_count": null,
   "metadata": {},
   "outputs": [],
   "source": []
  },
  {
   "cell_type": "code",
   "execution_count": null,
   "metadata": {},
   "outputs": [],
   "source": []
  },
  {
   "cell_type": "code",
   "execution_count": null,
   "metadata": {},
   "outputs": [],
   "source": []
  },
  {
   "cell_type": "code",
   "execution_count": null,
   "metadata": {},
   "outputs": [],
   "source": []
  },
  {
   "cell_type": "code",
   "execution_count": null,
   "metadata": {},
   "outputs": [],
   "source": []
  },
  {
   "cell_type": "code",
   "execution_count": null,
   "metadata": {},
   "outputs": [],
   "source": []
  },
  {
   "cell_type": "code",
   "execution_count": null,
   "metadata": {},
   "outputs": [],
   "source": []
  },
  {
   "cell_type": "code",
   "execution_count": null,
   "metadata": {},
   "outputs": [],
   "source": []
  }
 ],
 "metadata": {
  "kernelspec": {
   "display_name": "Python 3",
   "language": "python",
   "name": "python3"
  },
  "language_info": {
   "codemirror_mode": {
    "name": "ipython",
    "version": 3
   },
   "file_extension": ".py",
   "mimetype": "text/x-python",
   "name": "python",
   "nbconvert_exporter": "python",
   "pygments_lexer": "ipython3",
   "version": "3.7.6"
  }
 },
 "nbformat": 4,
 "nbformat_minor": 4
}
