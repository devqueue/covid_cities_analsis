{
 "cells": [
  {
   "cell_type": "markdown",
   "id": "adopted-binary",
   "metadata": {},
   "source": [
    "# Plotting different graphs using pandas and matplotlib"
   ]
  },
  {
   "cell_type": "code",
   "execution_count": 4,
   "id": "fantastic-miracle",
   "metadata": {},
   "outputs": [],
   "source": [
    "from custuntions import phase_mask, line_plot, scatter_plot"
   ]
  },
  {
   "cell_type": "code",
   "execution_count": 6,
   "id": "proud-delaware",
   "metadata": {},
   "outputs": [],
   "source": [
    "#example_df double click the cell below to reveal the table "
   ]
  },
  {
   "cell_type": "markdown",
   "id": "working-steam",
   "metadata": {},
   "source": [
    "            PRECTOT\tRH2M    T2MDEW\tT2M_MAX\tT2M_MIN\tT2M\tWS50M_RANGE\tWS10M_RANGE\tcases\trecoveries\tmortalities\n",
    "date\t\t\t\t\t\t\t\t\t\t\t\n",
    "2020-03-01\t0.00\t59.77\t13.97\t28.18\t17.29\t22.05\t5.80\t6.23\tNaN\tNaN\tNaN\n",
    "2020-03-02\t0.00\t52.24\t12.53\t29.64\t17.54\t22.77\t4.93\t5.67\tNaN\tNaN\tNaN\n",
    "2020-03-03\t0.00\t47.91\t11.11\t29.44\t16.78\t22.69\t6.11\t6.41\tNaN\tNaN\tNaN\n",
    "2020-03-04\t0.00\t58.32\t14.64\t29.50\t17.98\t23.17\t6.54\t6.78\tNaN\tNaN\tNaN\n",
    "2020-03-05\t0.00\t55.09\t13.57\t29.60\t17.79\t22.98\t5.76\t6.15\tNaN\tNaN\tNaN\n",
    "...\t...\t...\t...\t...\t...\t...\t...\t...\t...\t...\t...\n",
    "2021-03-12\t0.00\t41.83\t10.73\t31.45\t19.75\t24.59\t4.91\t5.85\t1.0\tNaN\t1.0\n",
    "2021-03-13\t0.00\t39.13\t9.93\t31.81\t19.33\t24.84\t5.35\t6.05\t1.0\tNaN\tNaN\n",
    "2021-03-14\t0.00\t40.58\t10.60\t31.03\t20.81\t24.96\t5.34\t5.89\t2.0\t4.0\tNaN\n",
    "2021-03-15\t0.00\t45.64\t11.98\t31.26\t18.63\t24.47\t3.36\t4.89\t1.0\tNaN\tNaN\n",
    "2021-03-16\t0.01\t45.94\t12.08\t31.87\t18.98\t24.47\t4.61\t5.59\t1.0\t1.0\tNaN"
   ]
  },
  {
   "cell_type": "markdown",
   "id": "united-catholic",
   "metadata": {},
   "source": [
    "Dividing data into phase 1 and pahse 2"
   ]
  },
  {
   "cell_type": "code",
   "execution_count": 7,
   "id": "radio-fellow",
   "metadata": {},
   "outputs": [],
   "source": [
    "# If dates are not replaced the following default dates will be used \n",
    "# phase1start = \"2020-03-01\"\n",
    "# phase1end = \"2020-08-01\"\n",
    "# phase2start = \"2020-08-01\"\n",
    "# phase2end =\"2021-03-18\"\n",
    "'''\n",
    "phase1_city, phase2_city = phase_mask(dataframe, phase1_startdate, phase1_enddate, phase2_startdate, phase2_enddate)\n",
    "'''"
   ]
  },
  {
   "cell_type": "markdown",
   "id": "honest-wilson",
   "metadata": {},
   "source": [
    "Line plot"
   ]
  },
  {
   "cell_type": "code",
   "execution_count": 9,
   "id": "prostate-office",
   "metadata": {},
   "outputs": [],
   "source": [
    "# Drawing a line plot\n",
    "'''\n",
    "line_plot(phase1_abha, \"title_for_the_chart\"); # replace phase1_abha with dataframe\n",
    "'''"
   ]
  },
  {
   "cell_type": "markdown",
   "id": "powered-throat",
   "metadata": {},
   "source": [
    "Scatter plot"
   ]
  },
  {
   "cell_type": "code",
   "execution_count": null,
   "id": "recovered-equipment",
   "metadata": {},
   "outputs": [],
   "source": [
    "# scatter plot is between and two columns of a dataframe\n",
    "'''\n",
    "scatter = scatter_plot(df_abha, \"cases\", \"RH2M\") # replace df_abha with the dataframe and \"cases\", \"RH2M\" must be replaced with columns for x and y \n",
    "'''\n"
   ]
  },
  {
   "cell_type": "markdown",
   "id": "perfect-decision",
   "metadata": {},
   "source": [
    "Removing certain columns from a dataframe "
   ]
  },
  {
   "cell_type": "code",
   "execution_count": null,
   "id": "adaptive-subscriber",
   "metadata": {},
   "outputs": [],
   "source": [
    "'''\n",
    "df_new = df_old.drop([\"col1\", \"col2\", \"col3\"], axis=1)\n",
    "'''\n",
    "# now plot df_new using line_plot() "
   ]
  },
  {
   "cell_type": "markdown",
   "id": "modular-architecture",
   "metadata": {},
   "source": [
    "Selecting certain columns from an existing dataframe"
   ]
  },
  {
   "cell_type": "code",
   "execution_count": 11,
   "id": "friendly-raleigh",
   "metadata": {},
   "outputs": [],
   "source": [
    "'''\n",
    "# to create a view referencing the old df\n",
    "\n",
    "df_new = df_dam[['col1','col2','col3']]\n",
    "\n",
    "# to create a True copy of the 3 columns in a new variable\n",
    "\n",
    "df_new = df_old.loc[:, ['col1','col2','col3']]\n",
    "\n",
    "\n",
    "'''"
   ]
  },
  {
   "cell_type": "code",
   "execution_count": null,
   "id": "polar-exception",
   "metadata": {},
   "outputs": [],
   "source": []
  },
  {
   "cell_type": "code",
   "execution_count": null,
   "id": "understanding-precipitation",
   "metadata": {},
   "outputs": [],
   "source": []
  },
  {
   "cell_type": "code",
   "execution_count": null,
   "id": "planned-reliance",
   "metadata": {},
   "outputs": [],
   "source": []
  },
  {
   "cell_type": "code",
   "execution_count": null,
   "id": "selected-boating",
   "metadata": {},
   "outputs": [],
   "source": []
  },
  {
   "cell_type": "code",
   "execution_count": null,
   "id": "helpful-differential",
   "metadata": {},
   "outputs": [],
   "source": []
  }
 ],
 "metadata": {
  "kernelspec": {
   "display_name": "Python 3",
   "language": "python",
   "name": "python3"
  },
  "language_info": {
   "codemirror_mode": {
    "name": "ipython",
    "version": 3
   },
   "file_extension": ".py",
   "mimetype": "text/x-python",
   "name": "python",
   "nbconvert_exporter": "python",
   "pygments_lexer": "ipython3",
   "version": "3.9.2"
  }
 },
 "nbformat": 4,
 "nbformat_minor": 5
}
